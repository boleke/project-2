{
 "cells": [
  {
   "cell_type": "code",
   "execution_count": 1,
   "metadata": {},
   "outputs": [],
   "source": [
    "import random\n",
    "suits = ('Hearts', 'Diamonds', 'Spades', 'Clubs')\n",
    "ranks = ('Two', 'Three', 'Four', 'Five', 'Six', 'Seven', 'Eight', 'Nine', 'Ten', 'Jack', 'Queen', 'King', 'Ace')\n",
    "values = {'Two':2, 'Three':3, 'Four':4, 'Five':5, 'Six':6, 'Seven':7, 'Eight':8, 'Nine':9,\n",
    " 'Ten':10, 'Jack':10, 'Queen':10, 'King':10, 'Ace':11}\n",
    "playing = True"
   ]
  },
  {
   "cell_type": "markdown",
   "metadata": {},
   "source": []
  },
  {
   "cell_type": "markdown",
   "metadata": {},
   "source": []
  },
  {
   "cell_type": "code",
   "execution_count": 8,
   "metadata": {},
   "outputs": [],
   "source": [
    "# Card class: holds suit, rank and value of a card.\n",
    "# Should have a str method to output card as a string\n",
    "class Card:\n",
    "    def __init__(self, suit, rank, value):\n",
    "       self.suit = suit\n",
    "       self.rank = rank\n",
    "       self.value = value\n",
    "\n",
    "    def __str__(self):\n",
    "        return self.rank + ' of ' + self.suit\n",
    "\n",
    "    def toString(self):\n",
    "        return self.rank + ' of ' + self.suit\n",
    "\n"
   ]
  },
  {
   "cell_type": "code",
   "execution_count": 9,
   "metadata": {},
   "outputs": [],
   "source": [
    "# Deck class: attributes: holds deck of cards as a list. Methods: shufflee(), hit(), str()\n",
    "class Deck:\n",
    "    def __init__(self):\n",
    "        self.deck_of_cards = [Card(suit, rank, values[rank]) for suit in suits for rank in ranks ]\n",
    "\n",
    "    def shuffle(self):\n",
    "        random.shuffle(self.deck_of_cards)\n",
    "        \n",
    "    def deal(self):\n",
    "        return self.deck_of_cards.pop()\n",
    "        \n",
    "    def __str__(self):\n",
    "        res = ''\n",
    "        for i in (self.deck_of_cards):\n",
    "            res +='[' + i.toString() + ']\\n'\n",
    "        return res\n",
    "        \n"
   ]
  },
  {
   "cell_type": "code",
   "execution_count": null,
   "metadata": {},
   "outputs": [],
   "source": [
    "class Hand:\n",
    "    def __init__(self):\n",
    "        self.cards = []\n",
    "        self.value = 0\n",
    "        self.aces = 0\n",
    "\n",
    "    def add_card(self, card):\n",
    "        self.cards.append(card)\n",
    "        pass\n",
    "\n",
    "    def adjust_for_ace(self):\n",
    "        pass"
   ]
  },
  {
   "cell_type": "code",
   "execution_count": 17,
   "metadata": {},
   "outputs": [],
   "source": [
    "# class Player: attr: balance, name. Methods: bet(), str()\n",
    "class Player:\n",
    "    def __init__(self):\n",
    "        #self.name = input('Enter your name: ')\n",
    "        #self.balance = int(input('Enter you buy-in: '))\n",
    "        self.name = 'Boleke'\n",
    "        self.balance = 666\n",
    "        self.current_hand = []\n",
    "        self.count = 0\n",
    "\n",
    "    def bet(self, bet_amount):\n",
    "        self.balance -=bet_amount\n",
    "    \n",
    "    def hit(self, card):\n",
    "        self.current_hand.append(card)\n",
    "        self.count += card.value\n",
    "\n",
    "    def count_hand(self):\n",
    "        for i in self.current_hand:\n",
    "            self.count += i.value\n",
    "    \n",
    "    def __str__(self):\n",
    "        return f'{self.name}\\'s cards: [' + ','.join([i.rank + ' of ' + i.suit for i in self.current_hand]) + ' ]' + f' [{self.count}]'\n",
    "        "
   ]
  },
  {
   "cell_type": "code",
   "execution_count": 28,
   "metadata": {},
   "outputs": [],
   "source": [
    "# Class Dealer: attr: current_hand instance of Hand class, name\n",
    "class Dealer:\n",
    "    def __init__(self):\n",
    "        self.current_hand = []\n",
    "        self.name = 'Dealer'\n",
    "        self.count = 0\n",
    "    def __str__(self):\n",
    "        return 'Dealer cards: [' + ','.join([i.rank + ' of ' + i.suit for i in self.current_hand]) + ' ]' + f'[{self.count}]'\n",
    "                \n",
    "    def count_hand(self):\n",
    "        self.count = 0\n",
    "        for i in self.current_hand:\n",
    "            self.count += i.value"
   ]
  },
  {
   "cell_type": "code",
   "execution_count": 20,
   "metadata": {},
   "outputs": [],
   "source": [
    "def display_board(a,b):\n",
    "    print(a)\n",
    "    print(b)"
   ]
  },
  {
   "cell_type": "code",
   "execution_count": 24,
   "metadata": {},
   "outputs": [],
   "source": [
    "player = Player()\n",
    "dealer = Dealer()\n",
    "deck = Deck()\n",
    "deck.shuffle()\n",
    "\n",
    "for i in range(2):\n",
    "    player.current_hand.append(deck.pop())\n",
    "    dealer.current_hand.append(deck.pop())\n",
    "dealer.count_hand()   \n",
    "player.count_hand()"
   ]
  },
  {
   "cell_type": "code",
   "execution_count": 25,
   "metadata": {},
   "outputs": [
    {
     "name": "stdout",
     "output_type": "stream",
     "text": [
      "Boleke's cards: [Jack of Hearts,Five of Hearts ] [15]\n",
      "Dealer cards: [Ace of Diamonds,Eight of Spades ][19]\n"
     ]
    }
   ],
   "source": [
    "display_board(player, dealer)"
   ]
  },
  {
   "cell_type": "code",
   "execution_count": 26,
   "metadata": {},
   "outputs": [
    {
     "ename": "AttributeError",
     "evalue": "'Deck' object has no attribute 'hit'",
     "output_type": "error",
     "traceback": [
      "\u001b[1;31m---------------------------------------------------------------------------\u001b[0m",
      "\u001b[1;31mAttributeError\u001b[0m                            Traceback (most recent call last)",
      "\u001b[1;32mc:\\Users\\Андрей\\Desktop\\milestone2\\milestone2.ipynb Cell 11'\u001b[0m in \u001b[0;36m<cell line: 12>\u001b[1;34m()\u001b[0m\n\u001b[0;32m     <a href='vscode-notebook-cell:/c%3A/Users/%D0%90%D0%BD%D0%B4%D1%80%D0%B5%D0%B9/Desktop/milestone2/milestone2.ipynb#ch0000007?line=9'>10</a>\u001b[0m deck\u001b[39m.\u001b[39mshuffle()\n\u001b[0;32m     <a href='vscode-notebook-cell:/c%3A/Users/%D0%90%D0%BD%D0%B4%D1%80%D0%B5%D0%B9/Desktop/milestone2/milestone2.ipynb#ch0000007?line=11'>12</a>\u001b[0m \u001b[39mfor\u001b[39;00m i \u001b[39min\u001b[39;00m \u001b[39mrange\u001b[39m(\u001b[39m2\u001b[39m):\n\u001b[1;32m---> <a href='vscode-notebook-cell:/c%3A/Users/%D0%90%D0%BD%D0%B4%D1%80%D0%B5%D0%B9/Desktop/milestone2/milestone2.ipynb#ch0000007?line=12'>13</a>\u001b[0m     player\u001b[39m.\u001b[39mcurrent_hand\u001b[39m.\u001b[39mappend(deck\u001b[39m.\u001b[39;49mhit())\n\u001b[0;32m     <a href='vscode-notebook-cell:/c%3A/Users/%D0%90%D0%BD%D0%B4%D1%80%D0%B5%D0%B9/Desktop/milestone2/milestone2.ipynb#ch0000007?line=13'>14</a>\u001b[0m     dealer\u001b[39m.\u001b[39mcurrent_hand\u001b[39m.\u001b[39mappend(deck\u001b[39m.\u001b[39mhit())\n\u001b[0;32m     <a href='vscode-notebook-cell:/c%3A/Users/%D0%90%D0%BD%D0%B4%D1%80%D0%B5%D0%B9/Desktop/milestone2/milestone2.ipynb#ch0000007?line=14'>15</a>\u001b[0m dealer\u001b[39m.\u001b[39mcount_hand()   \n",
      "\u001b[1;31mAttributeError\u001b[0m: 'Deck' object has no attribute 'hit'"
     ]
    }
   ],
   "source": [
    "def display_board(a,b):\n",
    "    print(a)\n",
    "    print(b)\n",
    "\n",
    "def replay():\n",
    "    while True:\n",
    "        choice = input('play agan? (Y/N)').lower()\n",
    "        if choice == 'y':\n",
    "            return True\n",
    "        elif choice == 'n':\n",
    "            return False\n",
    "        else:\n",
    "            print('Invalid charecter. Try again')\n",
    "\n",
    "game_on = True\n",
    "replay = False\n",
    " \n",
    "player = Player()\n",
    "dealer = Dealer()\n",
    "deck = Deck()\n",
    "deck.shuffle()\n",
    "\n",
    "for i in range(2):\n",
    "    player.current_hand.append(deck.pop())\n",
    "    dealer.current_hand.append(deck.pop())\n",
    "dealer.count_hand()   \n",
    "player.count_hand()\n",
    "\n",
    "while game_on or replay:\n",
    "    display_board(dealer, player)\n",
    "\n",
    "    if (player.count == 21):\n",
    "        print(f\"{player.name} hits BLACKJACK!!! And wins {player.bet*2}\")\n",
    "        game_on = False\n",
    "        player.balance += player.bet()\n",
    "        replay = replay()\n",
    "        break\n",
    "\n",
    "    if (player.count > 21):\n",
    "        print(f\"{player} is BUSTED!\")\n",
    "        game_on = False\n",
    "        replay = replay()\n",
    "        break\n",
    "\n",
    "    if player.count < 21:\n",
    "        choice = input('Hit or Stand (H/S)?: ').lower()\n",
    "        if choice == 'h':\n",
    "            player.current_hand.append(deck.hit())\n",
    "            player.count_hand()\n",
    "            display_board(dealer, player)\n",
    "        else:\n",
    "            while dealer.count < 17:\n",
    "                dealer.current_hand.append(deck.hit())\n",
    "                dealer.count_hand()\n",
    "                display_board(dealer, player)\n",
    "\n",
    "            if dealer.count > 21:\n",
    "                print(f'Dealer lose! {player.name} wins {player.bet*2} $!')\n",
    "                player.balance += player.bet*2\n",
    "                break\n",
    "            else:\n",
    "                if dealer.count > player.count:\n",
    "                    print('Dealer wins')\n",
    "                    game_on=False\n",
    "                    break\n",
    "                elif dealer.count < player.count:\n",
    "                    print('Player wins')\n",
    "                    game_on=False\n",
    "                    break\n",
    "                else:\n",
    "                    print(\"A tie!\")\n",
    "                    game_on = False\n",
    "                    break\n",
    "    \n",
    "\n",
    "\n",
    "\n",
    "        \n",
    "    "
   ]
  },
  {
   "cell_type": "code",
   "execution_count": null,
   "metadata": {},
   "outputs": [],
   "source": []
  }
 ],
 "metadata": {
  "interpreter": {
   "hash": "616c65280106399d7dc00739c759d45b45452b55af64818f95cc83c5c6fcd474"
  },
  "kernelspec": {
   "display_name": "Python 3.9.6 64-bit (system)",
   "language": "python",
   "name": "python3"
  },
  "language_info": {
   "codemirror_mode": {
    "name": "ipython",
    "version": 3
   },
   "file_extension": ".py",
   "mimetype": "text/x-python",
   "name": "python",
   "nbconvert_exporter": "python",
   "pygments_lexer": "ipython3",
   "version": "3.9.6"
  },
  "orig_nbformat": 4
 },
 "nbformat": 4,
 "nbformat_minor": 2
}
